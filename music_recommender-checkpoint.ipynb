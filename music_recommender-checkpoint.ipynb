{
 "cells": [
  {
   "cell_type": "code",
   "execution_count": 1,
   "id": "c8e5f7c2",
   "metadata": {},
   "outputs": [],
   "source": [
    "import pandas as pd\n",
    "#model\n",
    "from sklearn.tree import DecisionTreeClassifier\n",
    "\n",
    "#saving and loading models\n",
    "import joblib\n",
    "\n",
    "#loading the csv file\n",
    "#music_data=pd.read_csv(\"music.csv\")\n",
    "\n",
    "#droping data\n",
    "#X=music_data.drop(columns=['genre'])\n",
    "#y=music_data['genre']\n",
    "\n",
    "\n",
    "# calling the model\n",
    "#model = DecisionTreeClassifier()\n",
    "\n",
    "#loading data\n",
    "#model.fit(X, y)\n",
    "#joblib.dump(model, 'music-recommender.joblib')\n",
    "model = joblib.load('music-recommender.joblib')\n",
    "predictions = model.predict([[21, 1]])\n",
    "predictions\n",
    "\n",
    " \n",
    "\n",
    "\n",
    "\n"
   ]
  },
  {
   "cell_type": "code",
   "execution_count": null,
   "id": "863ca2fd",
   "metadata": {},
   "outputs": [],
   "source": []
  },
  {
   "cell_type": "code",
   "execution_count": null,
   "id": "333d30e3",
   "metadata": {},
   "outputs": [],
   "source": []
  },
  {
   "cell_type": "code",
   "execution_count": null,
   "id": "f2f01506",
   "metadata": {},
   "outputs": [],
   "source": []
  }
 ],
 "metadata": {
  "kernelspec": {
   "display_name": "Python 3.10.6 64-bit",
   "language": "python",
   "name": "python3"
  },
  "language_info": {
   "codemirror_mode": {
    "name": "ipython",
    "version": 3
   },
   "file_extension": ".py",
   "mimetype": "text/x-python",
   "name": "python",
   "nbconvert_exporter": "python",
   "pygments_lexer": "ipython3",
   "version": "3.10.6"
  },
  "vscode": {
   "interpreter": {
    "hash": "81b417f7e99debf9609bef134b1fac8e0a0a31c7a8c9a243109829771a606077"
   }
  }
 },
 "nbformat": 4,
 "nbformat_minor": 5
}
